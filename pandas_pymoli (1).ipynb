{
 "cells": [
  {
   "cell_type": "code",
   "execution_count": null,
   "metadata": {},
   "outputs": [],
   "source": [
    "# import pandas as pd\n",
    "csv_path = 'purchase_data.csv'\n",
    "purchase_df = pd.read_csv(csv_path)\n",
    "purchase_df.head()"
   ]
  },
  {
   "cell_type": "code",
   "execution_count": null,
   "metadata": {},
   "outputs": [],
   "source": [
    "n_rows = len(purchase_df.index)\n",
    "total_players_df = pd.DataFrame({\"Total Players\": [n_rows]})\n",
    "total_players_df"
   ]
  },
  {
   "cell_type": "code",
   "execution_count": null,
   "metadata": {},
   "outputs": [],
   "source": [
    "unique_items = len(purchase_df[\"Item Name\"].unique())\n",
    "avg_price = purchase_df[\"Price\"].mean()\n",
    "avg_price_rounded = f\"${round(avg_price, 2)}\"\n",
    "total_revenue = sum(purchase_df.iloc[:, 6])\n",
    "total_revenue_rounded = f\"${round(total_revenue, 2)}\"\n",
    "summary_df = pd.DataFrame({ \"Unique Items\": [unique_items], \"Average Price\": [avg_price_rounded], \"Number of Purchases\": [n_rows], \"Total Revenue\": [total_revenue_rounded]})\n",
    "summary_df"
   ]
  },
  {
   "cell_type": "code",
   "execution_count": null,
   "metadata": {},
   "outputs": [],
   "source": [
    "import pandas as pd\n",
    "csv_path = 'purchase_data.csv'\n",
    "purchase_df = pd.read_csv(csv_path)\n",
    "male_count = purchase_df[\"Gender\"].value_counts()[0]\n",
    "female_count = purchase_df[\"Gender\"].value_counts()[1]\n",
    "other_count = purchase_df[\"Gender\"].value_counts()[2]\n",
    "gender_total = male_count + female_count + other_count\n",
    "male_percentage = 100 * male_count / gender_total\n",
    "male_percentage_final = f\"{round(male_percentage, 2)}%\"\n",
    "female_percentage = 100 * female_count / gender_total\n",
    "female_percentage_final = f\"{round(female_percentage, 2)}%\"\n",
    "other_percentage = 100 * other_count / gender_total\n",
    "other_percentage_final = f\"{round(other_percentage, 2)}%\"\n",
    "gender_df = pd.DataFrame({ \"Total Count\": [male_count, female_count, other_count], \"Percentage of Players\": [male_percentage_final, female_percentage_final, other_percentage_final]}, index=[\"Male\", \"Female\", \"Other / Non Disclosed\"])\n",
    "gender_df\n",
    "\n"
   ]
  },
  {
   "cell_type": "code",
   "execution_count": null,
   "metadata": {},
   "outputs": [],
   "source": [
    "df_group_by_gender = purchase_df.groupby('Gender')\n",
    "# df_group_by_gender.count().head()\n",
    "df_group_by_gender_price_mean = df_group_by_gender[\"Price\"].mean()\n",
    "male_group_by_gender_price_mean = df_group_by_gender[\"Price\"].mean()[0]\n",
    "female_group_by_gender_price_mean = df_group_by_gender[\"Price\"].mean()[1]\n",
    "other_group_by_gender_price_mean = df_group_by_gender[\"Price\"].mean()[2]          \n",
    "df_group_by_gender_price_sum = df_group_by_gender[\"Price\"].sum()\n",
    "male_group_by_gender_price_sum = df_group_by_gender[\"Price\"].sum()[1]\n",
    "female_group_by_gender_price_sum = df_group_by_gender[\"Price\"].sum()[0]\n",
    "other_group_by_gender_price_sum = df_group_by_gender[\"Price\"].sum()[2]\n",
    "gender_purchase_df = pd.DataFrame({})\n",
    "gender_purchase_df[\"Average Purchase Price\"] = [male_group_by_gender_price_mean, female_group_by_gender_price_mean, other_group_by_gender_price_mean]\n",
    "gender_purchase_df[\"Total Purchase Value\"] = [male_group_by_gender_price_sum, female_group_by_gender_price_sum, other_group_by_gender_price_sum]\n",
    "gender_purchase_df[\"Purchase Count\"] = df_group_by_gender.size()\n",
    "gender_purchase_df\n",
    "# # df_group_by_gender.groupyby([\"SN\"])\n",
    "# df_group_gender_sn = purchase_df.groupby([\"Gender\", \"SN\"])\n",
    "# df_group_gender_sn.head()\n",
    "# df_group_by_gender.head().sort_values(\"Pr\", ascending=False)"
   ]
  },
  {
   "cell_type": "code",
   "execution_count": null,
   "metadata": {},
   "outputs": [],
   "source": [
    "max_age = purchase_df[\"Age\"].max()\n",
    "# print(max_age)\n",
    "min_age = purchase_df[\"Age\"].min()\n",
    "# print(min_age)\n",
    "bins = [0, 10, 14, 19, 24, 29, 34, 39, 40]\n",
    "group_names = [\"<10\", \"10-14\", \"15-19\", \"20-24\", \"25-29\", \"30-34\", \"35-39\", \"40+\"]\n",
    "age_bin_df = pd.DataFrame({})\n",
    "# age_bin_df[\"Purchase Count\"] = pd.cut(purchase_df[\"Age\"], bins, labels=group_names, include_lowest=True)\n",
    "\n",
    "\n",
    "purchase_df[\"Purchase Count\"] = pd.cut(purchase_df[\"Age\"], bins, labels=group_names, include_lowest=True)\n",
    "purchase_group = purchase_df.groupby(\"Purchase Count\")\n",
    "purchase_group_df = pd.DataFrame({})\n",
    "purchase_group_df[\"Purchase Count\"] = purchase_group[\"Purchase Count\"].count()\n",
    "purchase_group_df[\"Average Purchase Price\"] = purchase_group[\"Price\"].mean()\n",
    "purchase_group_df[\"Total Purchase Value\"] = purchase_group[\"Price\"].sum()\n",
    "purchase_group_df[\"Average Purchase Price\"] = purchase_group_df[\"Average Purchase Price\"].map(\"${:.2f}\".format)\n",
    "purchase_group_df[\"Total Purchase Value\"] = purchase_group_df[\"Total Purchase Value\"].map(\"${:.2f}\".format)\n",
    "purchase_group_df\n",
    "# purchase_group_df[\"Avg Total Purchase Per Person\"] = "
   ]
  },
  {
   "cell_type": "code",
   "execution_count": null,
   "metadata": {},
   "outputs": [],
   "source": [
    "top_spenders_group = purchase_df.groupby(\"SN\")\n",
    "top_spenders_df = pd.DataFrame({})\n",
    "top_spenders_df[\"Total Purchase Value\"] = top_spenders_group[\"Price\"].sum()\n",
    "top_spenders_df = top_spenders_df.sort_values(by=\"Total Purchase Value\", ascending=False)\n",
    "top_spenders_df[\"Average Purchase Price\"] = top_spenders_group[\"Price\"].mean()\n",
    "# top_spenders_df\n",
    "top_spenders_df[\"Average Purchase Price\"] = top_spenders_df[\"Average Purchase Price\"].map(\"${:.2f}\".format)\n",
    "top_spenders_df[\"Purchase Count\"] = top_spenders_group.size()\n",
    "top_five_df = top_spenders_df[:5]\n",
    "top_five_df"
   ]
  },
  {
   "cell_type": "code",
   "execution_count": null,
   "metadata": {},
   "outputs": [],
   "source": [
    "top_items_df = pd.DataFrame({})\n",
    "top_items_group = purchase_df.groupby([\"Item ID\", \"Item Name\"])\n",
    "top_items_df[\"Purchase Count\"] = top_items_group.size()\n",
    "# top_items_df[\"Item ID\"] = top_items_group[\"Item ID\"]\n",
    "top_items_df[\"Item Price\"] = top_items_group[\"Price\"].agg(pd.Series.mode)\n",
    "top_items_df[\"Total Purchase Value\"] = top_items_group[\"Price\"].sum()\n",
    "top_items_df = top_items_df.sort_values(by=\"Purchase Count\", ascending=False)\n",
    "# top_items_group.size()\n",
    "# top_items_df\n",
    "top_items_df[\"Total Purchase Value\"] = top_items_df[\"Total Purchase Value\"].map(\"${:.2f}\".format)\n",
    "top_items_df[\"Item Price\"] = top_items_df[\"Item Price\"].map(\"${:.2f}\".format)\n",
    "top_items_df = top_items_df[:5]\n",
    "top_items_df\n"
   ]
  },
  {
   "cell_type": "code",
   "execution_count": null,
   "metadata": {},
   "outputs": [],
   "source": [
    "most_profitable_items_df = top_items_df.sort_values(by=\"Total Purchase Value\", ascending=False)\n",
    "most_profitable_items_df"
   ]
  },
  {
   "cell_type": "code",
   "execution_count": null,
   "metadata": {},
   "outputs": [],
   "source": []
  }
 ],
 "metadata": {
  "kernelspec": {
   "display_name": "Python 3",
   "language": "python",
   "name": "python3"
  },
  "language_info": {
   "codemirror_mode": {
    "name": "ipython",
    "version": 3
   },
   "file_extension": ".py",
   "mimetype": "text/x-python",
   "name": "python",
   "nbconvert_exporter": "python",
   "pygments_lexer": "ipython3",
   "version": "3.8.3"
  }
 },
 "nbformat": 4,
 "nbformat_minor": 4
}
